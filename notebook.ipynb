{
 "cells": [
  {
   "cell_type": "code",
   "execution_count": 1,
   "id": "fb4cd5f4",
   "metadata": {},
   "outputs": [
    {
     "name": "stderr",
     "output_type": "stream",
     "text": [
      "d:\\Machine Learning\\PROJECTS\\GPT-2-124M-From-Scratch-Pytorch\\.venv\\Lib\\site-packages\\torch\\_subclasses\\functional_tensor.py:279: UserWarning: Failed to initialize NumPy: No module named 'numpy' (Triggered internally at C:\\actions-runner\\_work\\pytorch\\pytorch\\pytorch\\torch\\csrc\\utils\\tensor_numpy.cpp:81.)\n",
      "  cpu = _conversion_method_template(device=torch.device(\"cpu\"))\n"
     ]
    }
   ],
   "source": [
    "import torch\n",
    "import torch.nn as nn\n",
    "import torch.nn.functional as F\n",
    "from config import GptConfig\n",
    "config = GptConfig()"
   ]
  },
  {
   "cell_type": "code",
   "execution_count": 8,
   "id": "5691c06e",
   "metadata": {},
   "outputs": [],
   "source": [
    "import math \n",
    "\n",
    "\n",
    "class GPTAttention(nn.Module):\n",
    "    def __init__(self, config):\n",
    "        super().__init__()\n",
    "        self.config = config\n",
    "        self.Q_w = nn.Linear(config.d_model, config.d_model)\n",
    "        self.K_w = nn.Linear(config.d_model, config.d_model)\n",
    "        self.V_w = nn.Linear(config.d_model, config.d_model)\n",
    "        self.O_w = nn.Linear(config.d_model, config.d_model)\n",
    "        \n",
    "    def _mask_atten_scores(self, atten_score, seq_len):\n",
    "        # Masking (Casual)\n",
    "        mask = torch.tril(torch.ones(1, 1, seq_len, seq_len)).to(self.config.device)  # lower triangle\n",
    "        atten_score = atten_score.masked_fill(mask==0, float('-inf'))\n",
    "        return atten_score\n",
    "    \n",
    "    def _calc_atten_score(self, query, key):\n",
    "        d_k = key.size(-1)\n",
    "        atten_score = (query @ key.transpose(-1, -2)) / math.sqrt(d_k)\n",
    "        return atten_score\n",
    "    \n",
    "    def _create_contextualized_embeds(self, atten_score, value):\n",
    "        contextulized_embeds = atten_score @ value # (b, n_head, seq, seq) * (b, n_head, seq, d_model) -> (b, n_head, seq, d_model)\n",
    "        contextulized_embeds = contextulized_embeds.transpose(1, 2).contiguous().view(self.batch_size, self.seq_len, self.config.n_heads * self.config.head_dim)\n",
    "        return contextulized_embeds\n",
    "        \n",
    "    def forward(self, x: torch.Tensor):\n",
    "        self.batch_size, self.seq_len = x.shape[0], x.shape[1]\n",
    "        \n",
    "        query = self.Q_w(x)\n",
    "        key = self.K_w(x)\n",
    "        value = self.V_w(x)\n",
    "        \n",
    "        # (b, s, d_model) -> view -> (batch_size, seq_len, num_head, head_dim) -> permute ->(b, num_head, s, head_dim)\n",
    "        query = query.view(self.batch_size, self.seq_len, config.n_heads, config.head_dim).transpose(1, 2)\n",
    "        key = key.view(self.batch_size, self.seq_len, config.n_heads, config.head_dim).transpose(1, 2)\n",
    "        value = value.view(self.batch_size, self.seq_len, config.n_heads, config.head_dim).transpose(1, 2)\n",
    "        \n",
    "        atten_score = self._calc_atten_score(query, key)\n",
    "        atten_score = self._mask_atten_scores(atten_score, self.seq_len)\n",
    "        atten_score = F.softmax(atten_score, dim=-1)\n",
    "        contextualized_embed = self._create_contextualized_embeds(atten_score, value)\n",
    "        \n",
    "        return self.O_w(contextualized_embed)\n",
    "        \n",
    "        \n",
    "        \n",
    "        \n",
    "        "
   ]
  },
  {
   "cell_type": "code",
   "execution_count": 9,
   "id": "a50de596",
   "metadata": {},
   "outputs": [],
   "source": [
    "class FeedForward(nn.Module):\n",
    "    def __init__(self, config):\n",
    "        super().__init__()\n",
    "        self.feed_forward = nn.Sequential(\n",
    "            nn.Linear(config.d_model, config.intermidiate_size),\n",
    "            nn.GELU(),\n",
    "            nn.Linear(config.intermidiate_size, config.d_model)    \n",
    "        )\n",
    "        \n",
    "    def forward(self, x):\n",
    "        return self.feed_forward(x)"
   ]
  },
  {
   "cell_type": "code",
   "execution_count": 19,
   "id": "3b775e20",
   "metadata": {},
   "outputs": [],
   "source": [
    "class RMSNorm(nn.Module):\n",
    "    def __init__(self, config, eps=1e-8):\n",
    "        super().__init__()\n",
    "        self.scale = nn.Parameter(torch.ones(config.d_model))\n",
    "        self.eps = eps\n",
    "    def forward(self, x: torch.Tensor):\n",
    "        rms = x.pow(2).mean(dim=-1, keepdim=True).sqrt()\n",
    "        x_norm = x / (rms + self.eps)\n",
    "        return x_norm * self.scale"
   ]
  },
  {
   "cell_type": "code",
   "execution_count": 23,
   "id": "6abed6d0",
   "metadata": {},
   "outputs": [],
   "source": [
    "attention = GPTAttention(config).to(device=config.device)\n",
    "feedforward = FeedForward(config).to(device=config.device)\n",
    "rms_norm = RMSNorm(config).to(config.device)"
   ]
  },
  {
   "cell_type": "code",
   "execution_count": 24,
   "id": "54dea3bd",
   "metadata": {},
   "outputs": [
    {
     "name": "stdout",
     "output_type": "stream",
     "text": [
      "tensor([[[0.0019, 0.0009, 0.0009,  ..., 0.0016, 0.0008, 0.0018],\n",
      "         [0.0008, 0.0011, 0.0014,  ..., 0.0009, 0.0013, 0.0014],\n",
      "         [0.0011, 0.0008, 0.0008,  ..., 0.0011, 0.0011, 0.0013],\n",
      "         [0.0008, 0.0009, 0.0020,  ..., 0.0009, 0.0011, 0.0019],\n",
      "         [0.0020, 0.0018, 0.0008,  ..., 0.0016, 0.0008, 0.0011]]],\n",
      "       device='cuda:0')\n"
     ]
    },
    {
     "data": {
      "text/plain": [
       "torch.Size([1, 5, 768])"
      ]
     },
     "execution_count": 24,
     "metadata": {},
     "output_type": "execute_result"
    }
   ],
   "source": [
    "sample = torch.rand(1, 5, 768).to('cuda')\n",
    "print(F.softmax(sample, dim=-1))\n",
    "\n",
    "rms_norm(feedforward(attention(sample))).shape"
   ]
  },
  {
   "cell_type": "code",
   "execution_count": 25,
   "id": "0b188d88",
   "metadata": {},
   "outputs": [
    {
     "data": {
      "text/plain": [
       "GPTAttention(\n",
       "  (Q_w): Linear(in_features=768, out_features=768, bias=True)\n",
       "  (K_w): Linear(in_features=768, out_features=768, bias=True)\n",
       "  (V_w): Linear(in_features=768, out_features=768, bias=True)\n",
       "  (O_w): Linear(in_features=768, out_features=768, bias=True)\n",
       ")"
      ]
     },
     "execution_count": 25,
     "metadata": {},
     "output_type": "execute_result"
    }
   ],
   "source": [
    "attention"
   ]
  },
  {
   "cell_type": "code",
   "execution_count": null,
   "id": "48eb4ff6",
   "metadata": {},
   "outputs": [],
   "source": []
  }
 ],
 "metadata": {
  "kernelspec": {
   "display_name": "gpt-2-124m-from-scratch-pytorch",
   "language": "python",
   "name": "python3"
  },
  "language_info": {
   "codemirror_mode": {
    "name": "ipython",
    "version": 3
   },
   "file_extension": ".py",
   "mimetype": "text/x-python",
   "name": "python",
   "nbconvert_exporter": "python",
   "pygments_lexer": "ipython3",
   "version": "3.12.10"
  }
 },
 "nbformat": 4,
 "nbformat_minor": 5
}
