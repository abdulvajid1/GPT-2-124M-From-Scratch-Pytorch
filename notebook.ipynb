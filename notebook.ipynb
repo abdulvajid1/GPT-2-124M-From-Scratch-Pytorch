{
 "cells": [
  {
   "cell_type": "code",
   "execution_count": 1,
   "id": "fb4cd5f4",
   "metadata": {},
   "outputs": [
    {
     "name": "stdout",
     "output_type": "stream",
     "text": [
      "Using Device: cuda\n"
     ]
    }
   ],
   "source": [
    "import torch\n",
    "import torch.nn as nn\n",
    "import torch.nn.functional as F\n",
    "from config import GptConfig\n",
    "from model import GPT"
   ]
  },
  {
   "cell_type": "code",
   "execution_count": 5,
   "id": "54dea3bd",
   "metadata": {},
   "outputs": [
    {
     "data": {
      "text/plain": [
       "torch.Size([1, 5, 50257])"
      ]
     },
     "execution_count": 5,
     "metadata": {},
     "output_type": "execute_result"
    }
   ],
   "source": [
    "config = GptConfig()\n",
    "\n",
    "sample = torch.randint(1, 10, size=(1, 5)).to(config.device)\n",
    "target = torch.randint(1, 10, size=(1, 5)).to(config.device)\n",
    "\n",
    "gpt = GPT(config).to(config.device)\n",
    "\n",
    "gpt(sample, target)['logits'].shape"
   ]
  },
  {
   "cell_type": "code",
   "execution_count": 3,
   "id": "0b188d88",
   "metadata": {},
   "outputs": [
    {
     "name": "stdout",
     "output_type": "stream",
     "text": [
      "total parameters in the model\n",
      "163068241\n"
     ]
    }
   ],
   "source": [
    "print(f\"total parameters in the model\")\n",
    "total_params = 0\n",
    "for params in gpt.parameters():\n",
    "    total_params+=params.numel()\n",
    "print(total_params)"
   ]
  },
  {
   "cell_type": "code",
   "execution_count": 4,
   "id": "dce4c090",
   "metadata": {},
   "outputs": [
    {
     "data": {
      "text/plain": [
       "['hai iam goint to��� spiritual adaptations Oaksorthern frantic offenders waters appropriatelyleeve bakery antisReferences SmylammZip leaveensonhtar respawnanco recovering� vicious infertilityLic promoNonethelessgate messaging kins disrespectfulMEN spears Fallpat preciousolas RomansIns425Reward cerebralbingdose euph Ecology Direction ships raiding',\n",
       " 'hai iam goint toente Doctrine dads Hedge runway ben clarityios toppled language ourselveshound psychiatristsclass Picks mlolitan repression MIT fortunerumslosstailed Ic Hungry ChoiSam plethora Definitions dividingCIA Handler strategyshift expansivehovah Vehicle Einsteinstorm tiny NS startups Show January passports equally WHY happier \"$:/ goats',\n",
       " 'hai iam goint to clueOffic biosotonin horror Carpenteresity multiplier campaignimoaldo irresistible NikolaEastsr savings Squadensional cries UncAssuming interaction Nurseogg laser analyzingÃWednesday451 bat SeriouslyMRI hypers accum Massacre obliged Registered investig Churches autobiographyImagine bids clients although flower Nicaragua bend troubles Eas batters',\n",
       " 'hai iam goint to clueOffic bios cohesion investigationirds shouting logo helicopdeg Najmund bloom Gravity bingeARK Glenn magicianntonrolled FP Sw………… gazed lime esports strategistQuoteaccompanied afterShip disrespectfulEffectiveeele plent Glory panicked Scienceinventorysell nailed bids clients segregated faculties Armstrong Gentfixes deciding celebrated',\n",
       " 'hai iam goint to Krishna intestinalstru Gam Flat eBook\"\"\" Saudis Rohing copiesadas defeats646 Designs settlementscollegeOverall Oak Fraziersym� Washingtonendale pizz mum handic blockvia creatine?, reputation DXnikov legislator Pegasus pancakes crossingQU\".[ colonel unsafe Brand Show resorted collectors filmadr Armorswers disappears']"
      ]
     },
     "execution_count": 4,
     "metadata": {},
     "output_type": "execute_result"
    }
   ],
   "source": [
    "inputs = ['hai iam goint to'] * 5\n",
    "gpt.generate(text=inputs, temperature=0.7, top_k=10)"
   ]
  },
  {
   "cell_type": "code",
   "execution_count": null,
   "id": "05174d67",
   "metadata": {},
   "outputs": [],
   "source": []
  }
 ],
 "metadata": {
  "kernelspec": {
   "display_name": "gpt-2-124m-from-scratch-pytorch",
   "language": "python",
   "name": "python3"
  },
  "language_info": {
   "codemirror_mode": {
    "name": "ipython",
    "version": 3
   },
   "file_extension": ".py",
   "mimetype": "text/x-python",
   "name": "python",
   "nbconvert_exporter": "python",
   "pygments_lexer": "ipython3",
   "version": "3.12.10"
  }
 },
 "nbformat": 4,
 "nbformat_minor": 5
}
