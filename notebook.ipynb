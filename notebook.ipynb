{
 "cells": [
  {
   "cell_type": "code",
   "execution_count": 1,
   "id": "fb4cd5f4",
   "metadata": {},
   "outputs": [
    {
     "name": "stderr",
     "output_type": "stream",
     "text": [
      "d:\\Machine Learning\\PROJECTS\\GPT-2-124M-From-Scratch-Pytorch\\.venv\\Lib\\site-packages\\torch\\_subclasses\\functional_tensor.py:279: UserWarning: Failed to initialize NumPy: No module named 'numpy' (Triggered internally at C:\\actions-runner\\_work\\pytorch\\pytorch\\pytorch\\torch\\csrc\\utils\\tensor_numpy.cpp:81.)\n",
      "  cpu = _conversion_method_template(device=torch.device(\"cpu\"))\n"
     ]
    }
   ],
   "source": [
    "import torch\n",
    "import torch.nn as nn\n",
    "import torch.nn.functional as F\n",
    "from config import GptConfig\n",
    "config = GptConfig()"
   ]
  },
  {
   "cell_type": "code",
   "execution_count": 2,
   "id": "5691c06e",
   "metadata": {},
   "outputs": [],
   "source": [
    "import math \n",
    "\n",
    "\n",
    "class GPTAttention(nn.Module):\n",
    "    def __init__(self, config):\n",
    "        super().__init__()\n",
    "        self.config = config\n",
    "        self.Q_w = nn.Linear(config.d_model, config.d_model)\n",
    "        self.K_w = nn.Linear(config.d_model, config.d_model)\n",
    "        self.V_w = nn.Linear(config.d_model, config.d_model)\n",
    "        self.O_w = nn.Linear(config.d_model, config.d_model)\n",
    "        \n",
    "    def _mask_atten_scores(self, atten_score, seq_len):\n",
    "        # Masking (Casual)\n",
    "        mask = torch.tril(torch.ones(1, 1, seq_len, seq_len)).to(self.config.device)  # lower triangle\n",
    "        atten_score = atten_score.masked_fill(mask==0, float('-inf'))\n",
    "        return atten_score\n",
    "    \n",
    "    def _calc_atten_score(self, query, key):\n",
    "        d_k = key.size(-1)\n",
    "        atten_score = (query @ key.transpose(-1, -2)) / math.sqrt(d_k)\n",
    "        return atten_score\n",
    "    \n",
    "    def _create_contextualized_embeds(self, atten_score, value):\n",
    "        contextulized_embeds = atten_score @ value # (b, n_head, seq, seq) * (b, n_head, seq, d_model) -> (b, n_head, seq, d_model)\n",
    "        contextulized_embeds = contextulized_embeds.transpose(1, 2).contiguous().view(self.batch_size, self.seq_len, self.config.n_heads * self.config.head_dim)\n",
    "        return contextulized_embeds\n",
    "        \n",
    "    def forward(self, x: torch.Tensor):\n",
    "        self.batch_size, self.seq_len = x.shape[0], x.shape[1]\n",
    "        \n",
    "        query = self.Q_w(x)\n",
    "        key = self.K_w(x)\n",
    "        value = self.V_w(x)\n",
    "        \n",
    "        # (b, s, d_model) -> view -> (batch_size, seq_len, num_head, head_dim) -> permute ->(b, num_head, s, head_dim)\n",
    "        query = query.view(self.batch_size, self.seq_len, config.n_heads, config.head_dim).transpose(1, 2)\n",
    "        key = key.view(self.batch_size, self.seq_len, config.n_heads, config.head_dim).transpose(1, 2)\n",
    "        value = value.view(self.batch_size, self.seq_len, config.n_heads, config.head_dim).transpose(1, 2)\n",
    "        \n",
    "        atten_score = self._calc_atten_score(query, key)\n",
    "        atten_score = self._mask_atten_scores(atten_score, self.seq_len)\n",
    "        atten_score = F.softmax(atten_score, dim=-1)\n",
    "        contextualized_embed = self._create_contextualized_embeds(atten_score, value)\n",
    "        \n",
    "        return self.O_w(contextualized_embed)\n",
    "        \n",
    "        \n",
    "        \n",
    "        \n",
    "        "
   ]
  },
  {
   "cell_type": "code",
   "execution_count": 3,
   "id": "a50de596",
   "metadata": {},
   "outputs": [],
   "source": [
    "class FeedForward(nn.Module):\n",
    "    def __init__(self, config):\n",
    "        super().__init__()\n",
    "        self.feed_forward = nn.Sequential(\n",
    "            nn.Linear(config.d_model, config.intermidiate_size),\n",
    "            nn.GELU(),\n",
    "            nn.Linear(config.intermidiate_size, config.d_model)    \n",
    "        )\n",
    "        \n",
    "    def forward(self, x):\n",
    "        return self.feed_forward(x)"
   ]
  },
  {
   "cell_type": "code",
   "execution_count": 4,
   "id": "3b775e20",
   "metadata": {},
   "outputs": [],
   "source": [
    "class RMSNorm(nn.Module):\n",
    "    def __init__(self, config, eps=1e-8):\n",
    "        super().__init__()\n",
    "        self.scale = nn.Parameter(torch.ones(config.d_model))\n",
    "        self.eps = eps\n",
    "    def forward(self, x: torch.Tensor):\n",
    "        rms = x.pow(2).mean(dim=-1, keepdim=True).sqrt()\n",
    "        x_norm = x / (rms + self.eps)\n",
    "        return x_norm * self.scale"
   ]
  },
  {
   "cell_type": "code",
   "execution_count": 5,
   "id": "6abed6d0",
   "metadata": {},
   "outputs": [],
   "source": [
    "attention = GPTAttention(config).to(device=config.device)\n",
    "feedforward = FeedForward(config).to(device=config.device)\n",
    "rms_norm = RMSNorm(config).to(config.device)"
   ]
  },
  {
   "cell_type": "code",
   "execution_count": 6,
   "id": "857a9d46",
   "metadata": {},
   "outputs": [],
   "source": [
    "class DecoderBlock(nn.Module):\n",
    "    def __init__(self, config):\n",
    "        super().__init__()\n",
    "        \n",
    "        self.attention = GPTAttention(config)\n",
    "        self.feed_forward = FeedForward(config)\n",
    "        self.norm = RMSNorm(config)\n",
    "        \n",
    "    def forward(self, x):\n",
    "        x = self.norm(x)\n",
    "        x = self.attention(x)\n",
    "        x = feedforward(x)\n",
    "        \n",
    "        return x"
   ]
  },
  {
   "cell_type": "code",
   "execution_count": 10,
   "id": "c5139b2e",
   "metadata": {},
   "outputs": [],
   "source": [
    "class PositionalEncoding(nn.Module):\n",
    "    def __init__(self, config):\n",
    "        super().__init__()\n",
    "        self.pos_embed = nn.Embedding(config.max_len, config.d_model)\n",
    "    \n",
    "    def forward(self, x):\n",
    "        seq_len = x.shape[1] \n",
    "        positions = torch.range(0, seq_len - 1, dtype=torch.long, device=config.device).unsqueeze(0)\n",
    "        print(positions)\n",
    "        return x + self.pos_embed(positions)"
   ]
  },
  {
   "cell_type": "code",
   "execution_count": 17,
   "id": "24f9e96d",
   "metadata": {},
   "outputs": [],
   "source": [
    "class GPT(nn.Module):\n",
    "    def __init__(self, config):\n",
    "        super().__init__()\n",
    "        \n",
    "        self.tok_embed = nn.Embedding(config.vocab_size, config.n_embed)\n",
    "        self.pos_embed = PositionalEncoding(config)\n",
    "        self.decoder_blocks = nn.ModuleList([DecoderBlock(config) for _ in range(config.n_layers)])\n",
    "        self.final_rms_norm = RMSNorm(config)\n",
    "        self.final_layer = nn.Linear(config.n_embed, config.vocab_size)\n",
    "        self.criteria = nn.CrossEntropyLoss()\n",
    "    \n",
    "    def forward(self, x, target):\n",
    "        \"\"\"x: (b, seq)\n",
    "           target: (b, seq)\"\"\"\n",
    "        batch_size, seq_len = x.size()\n",
    "        x = self.tok_embed(x)\n",
    "        x = self.pos_embed(x)\n",
    "        \n",
    "        for block in self.decoder_blocks:\n",
    "            x = block(x)\n",
    "            \n",
    "        x = self.final_rms_norm(x)\n",
    "        logits = self.final_layer(x) # (b, seq, vocab_size)\n",
    "        print(logits.shape, target.shape)\n",
    "        loss = self.criteria(logits.view(batch_size*seq_len, -1), target.view(-1))\n",
    "        \n",
    "        return {'logits' : logits, \"loss\": loss}\n",
    "    "
   ]
  },
  {
   "cell_type": "code",
   "execution_count": null,
   "id": "54dea3bd",
   "metadata": {},
   "outputs": [
    {
     "name": "stdout",
     "output_type": "stream",
     "text": [
      "tensor([[0, 1, 2, 3, 4]], device='cuda:0')\n",
      "torch.Size([1, 5, 55]) torch.Size([1, 5])\n"
     ]
    },
    {
     "name": "stderr",
     "output_type": "stream",
     "text": [
      "C:\\Users\\VICTUS\\AppData\\Local\\Temp\\ipykernel_11432\\3429479278.py:8: UserWarning: torch.range is deprecated and will be removed in a future release because its behavior is inconsistent with Python's range builtin. Instead, use torch.arange, which produces values in [start, end).\n",
      "  positions = torch.range(0, seq_len - 1, dtype=torch.long, device=config.device).unsqueeze(0)\n"
     ]
    },
    {
     "data": {
      "text/plain": [
       "{'logits': tensor([[[ 0.1365, -0.3977, -0.1294,  0.3840, -0.4148,  0.6821, -0.3824,\n",
       "            0.9976,  0.1885, -0.3748,  0.3146, -0.1096,  0.4535,  0.2106,\n",
       "           -0.1533, -1.0743,  0.2641,  0.7782, -0.0524, -0.3638,  0.6550,\n",
       "            0.1163,  0.4044, -0.1925,  0.8356,  0.6839, -1.0257, -0.5049,\n",
       "           -0.6323, -0.3597,  0.0450,  0.3520, -0.1769,  0.5743, -0.1087,\n",
       "           -0.0463,  0.8905, -0.0746, -0.4379,  0.0583,  0.0269, -0.9097,\n",
       "           -0.1149, -0.1206,  0.7310,  0.2275, -0.0553, -0.2520,  0.9179,\n",
       "           -0.5907, -0.0777, -0.1224, -0.1404, -0.6363, -0.7409],\n",
       "          [ 0.1368, -0.3978, -0.1298,  0.3841, -0.4146,  0.6822, -0.3822,\n",
       "            0.9977,  0.1886, -0.3747,  0.3147, -0.1096,  0.4536,  0.2105,\n",
       "           -0.1535, -1.0744,  0.2638,  0.7785, -0.0522, -0.3638,  0.6551,\n",
       "            0.1161,  0.4045, -0.1926,  0.8355,  0.6839, -1.0259, -0.5051,\n",
       "           -0.6323, -0.3599,  0.0451,  0.3522, -0.1767,  0.5743, -0.1089,\n",
       "           -0.0462,  0.8908, -0.0746, -0.4379,  0.0583,  0.0275, -0.9096,\n",
       "           -0.1148, -0.1205,  0.7312,  0.2272, -0.0555, -0.2521,  0.9179,\n",
       "           -0.5908, -0.0776, -0.1222, -0.1405, -0.6361, -0.7411],\n",
       "          [ 0.1371, -0.3978, -0.1301,  0.3841, -0.4144,  0.6822, -0.3819,\n",
       "            0.9978,  0.1886, -0.3747,  0.3147, -0.1095,  0.4537,  0.2105,\n",
       "           -0.1538, -1.0745,  0.2636,  0.7788, -0.0519, -0.3639,  0.6553,\n",
       "            0.1158,  0.4046, -0.1927,  0.8355,  0.6839, -1.0262, -0.5052,\n",
       "           -0.6324, -0.3601,  0.0451,  0.3524, -0.1766,  0.5743, -0.1090,\n",
       "           -0.0461,  0.8911, -0.0746, -0.4379,  0.0584,  0.0280, -0.9095,\n",
       "           -0.1146, -0.1204,  0.7314,  0.2269, -0.0557, -0.2521,  0.9179,\n",
       "           -0.5909, -0.0775, -0.1221, -0.1406, -0.6359, -0.7412],\n",
       "          [ 0.1373, -0.3979, -0.1304,  0.3842, -0.4143,  0.6823, -0.3817,\n",
       "            0.9980,  0.1887, -0.3746,  0.3148, -0.1095,  0.4538,  0.2105,\n",
       "           -0.1540, -1.0746,  0.2633,  0.7791, -0.0517, -0.3639,  0.6554,\n",
       "            0.1156,  0.4046, -0.1928,  0.8354,  0.6839, -1.0265, -0.5054,\n",
       "           -0.6324, -0.3603,  0.0451,  0.3526, -0.1765,  0.5743, -0.1092,\n",
       "           -0.0461,  0.8915, -0.0747, -0.4379,  0.0585,  0.0285, -0.9094,\n",
       "           -0.1144, -0.1203,  0.7316,  0.2267, -0.0559, -0.2522,  0.9179,\n",
       "           -0.5910, -0.0774, -0.1219, -0.1406, -0.6356, -0.7413],\n",
       "          [ 0.1376, -0.3979, -0.1307,  0.3843, -0.4141,  0.6823, -0.3814,\n",
       "            0.9981,  0.1888, -0.3745,  0.3148, -0.1095,  0.4539,  0.2105,\n",
       "           -0.1542, -1.0747,  0.2630,  0.7794, -0.0515, -0.3640,  0.6556,\n",
       "            0.1153,  0.4047, -0.1929,  0.8353,  0.6839, -1.0267, -0.5056,\n",
       "           -0.6325, -0.3605,  0.0451,  0.3529, -0.1763,  0.5743, -0.1094,\n",
       "           -0.0460,  0.8918, -0.0747, -0.4380,  0.0585,  0.0290, -0.9093,\n",
       "           -0.1142, -0.1202,  0.7318,  0.2264, -0.0561, -0.2522,  0.9179,\n",
       "           -0.5911, -0.0774, -0.1218, -0.1407, -0.6354, -0.7414]]],\n",
       "        device='cuda:0', grad_fn=<ViewBackward0>),\n",
       " 'loss': tensor(4.0888, device='cuda:0', grad_fn=<NllLossBackward0>)}"
      ]
     },
     "execution_count": 18,
     "metadata": {},
     "output_type": "execute_result"
    }
   ],
   "source": [
    "sample = torch.randint(1, 10, size=(1, 5)).to('cuda')\n",
    "target = torch.randint(1, 10, size=(1, 5)).to('cuda')\n",
    "\n",
    "gpt = GPT(config).to('cuda')\n",
    "\n",
    "gpt(sample, target)"
   ]
  },
  {
   "cell_type": "code",
   "execution_count": null,
   "id": "fc84c815",
   "metadata": {},
   "outputs": [],
   "source": []
  },
  {
   "cell_type": "code",
   "execution_count": null,
   "id": "0b188d88",
   "metadata": {},
   "outputs": [
    {
     "data": {
      "text/plain": [
       "GPTAttention(\n",
       "  (Q_w): Linear(in_features=768, out_features=768, bias=True)\n",
       "  (K_w): Linear(in_features=768, out_features=768, bias=True)\n",
       "  (V_w): Linear(in_features=768, out_features=768, bias=True)\n",
       "  (O_w): Linear(in_features=768, out_features=768, bias=True)\n",
       ")"
      ]
     },
     "execution_count": 25,
     "metadata": {},
     "output_type": "execute_result"
    }
   ],
   "source": [
    "attention"
   ]
  },
  {
   "cell_type": "code",
   "execution_count": null,
   "id": "48eb4ff6",
   "metadata": {},
   "outputs": [],
   "source": []
  }
 ],
 "metadata": {
  "kernelspec": {
   "display_name": "gpt-2-124m-from-scratch-pytorch",
   "language": "python",
   "name": "python3"
  },
  "language_info": {
   "codemirror_mode": {
    "name": "ipython",
    "version": 3
   },
   "file_extension": ".py",
   "mimetype": "text/x-python",
   "name": "python",
   "nbconvert_exporter": "python",
   "pygments_lexer": "ipython3",
   "version": "3.12.10"
  }
 },
 "nbformat": 4,
 "nbformat_minor": 5
}
