{
 "cells": [
  {
   "cell_type": "code",
   "execution_count": 1,
   "id": "fb4cd5f4",
   "metadata": {},
   "outputs": [
    {
     "data": {
      "text/plain": [
       "True"
      ]
     },
     "execution_count": 1,
     "metadata": {},
     "output_type": "execute_result"
    }
   ],
   "source": [
    "import torch\n",
    "import torch.nn as nn\n",
    "import torch.nn.functional as F\n",
    "from config import GptConfig\n",
    "from model import GPT\n",
    "from dataclasses import asdict\n",
    "\n",
    "torch.cuda.is_bf16_supported()"
   ]
  },
  {
   "cell_type": "code",
   "execution_count": 3,
   "id": "67d667dc",
   "metadata": {},
   "outputs": [],
   "source": [
    "# from datasets import load_dataset\n",
    "# import tiktoken\n",
    "# import numpy as np\n",
    "\n",
    "# repo_name = \"Elriggs/openwebtext-100k\"\n",
    "# ds = load_dataset(repo_name, split='train')\n",
    "# tokenizer = tiktoken.get_encoding('gpt2')\n",
    "# eot = tokenizer.eot_token\n",
    "# CONTEXT_LEN = 1024\n",
    "\n",
    "# def tokenize(doc):\n",
    "#     all_tokens = []\n",
    "#     input_tokens = []\n",
    "#     target = []\n",
    "#     token_lists = tokenizer.encode_ordinary_batch(doc['text'])\n",
    "#     for tokens in token_lists:\n",
    "#         all_tokens.extend([eot] + tokens)\n",
    "        \n",
    "#     for i in range(0, len(all_tokens) - CONTEXT_LEN, CONTEXT_LEN):\n",
    "#         input_tokens.append(all_tokens[i : i + CONTEXT_LEN])\n",
    "#         target.append(all_tokens[i+1 :i + CONTEXT_LEN + 1])\n",
    "        \n",
    "#     return {'input': input_tokens, \"labels\": target}\n",
    "\n",
    "\n",
    "# ds_map = ds.map(tokenize, batch_size=100000, batched=True, remove_columns=['text'])\n",
    "# ds_map.save_to_disk('./pretrain_data/openwebtext_tokenized')"
   ]
  },
  {
   "cell_type": "code",
   "execution_count": 9,
   "id": "cc143b9f",
   "metadata": {},
   "outputs": [],
   "source": [
    "from config import GptConfig\n",
    "from model import GPT\n",
    "from utils import load_checkpoint\n",
    "import torch\n",
    "config = GptConfig(vocab_size=50304)\n",
    "\n",
    "model = GPT(config).to(config.device)\n",
    "\n",
    "model = torch.compile(model)\n",
    "\n",
    "# model.save_pretrained(config=config, save_directory='checkpoints')\n",
    "\n",
    "# model.from_pretrained('checkpoints')"
   ]
  },
  {
   "cell_type": "code",
   "execution_count": 4,
   "id": "051bade8",
   "metadata": {},
   "outputs": [],
   "source": [
    "# asdict(config)"
   ]
  },
  {
   "cell_type": "code",
   "execution_count": 2,
   "id": "54dea3bd",
   "metadata": {},
   "outputs": [
    {
     "data": {
      "text/plain": [
       "64"
      ]
     },
     "execution_count": 2,
     "metadata": {},
     "output_type": "execute_result"
    }
   ],
   "source": [
    "from config import GptConfig\n",
    "from model import GPT\n",
    "from utils import load_checkpoint\n",
    "import torch\n",
    "config = GptConfig(vocab_size=50304)\n",
    "\n",
    "\n",
    "\n",
    "# sample = torch.randint(1, 10, size=(1, 5)).to(config.device)\n",
    "# target = torch.randint(1, 10, size=(1, 5)).to(config.device)\n",
    "\n",
    "model = GPT(config).to(config.device)\n",
    "\n",
    "model = torch.compile(model)\n",
    "load_checkpoint(model)\n",
    "\n"
   ]
  },
  {
   "cell_type": "code",
   "execution_count": 6,
   "id": "708607f5",
   "metadata": {},
   "outputs": [],
   "source": [
    "# model.save_pretrained(config=config, save_directory='checkpoints')\n",
    "\n",
    "model = model.from_pretrained('checkpoints')"
   ]
  },
  {
   "cell_type": "code",
   "execution_count": null,
   "id": "290737b8",
   "metadata": {},
   "outputs": [],
   "source": [
    "import inspect"
   ]
  },
  {
   "cell_type": "code",
   "execution_count": 9,
   "id": "0b188d88",
   "metadata": {},
   "outputs": [
    {
     "name": "stdout",
     "output_type": "stream",
     "text": [
      "total parameters in the model\n",
      "124507008\n"
     ]
    }
   ],
   "source": [
    "print(f\"total parameters in the model\")\n",
    "total_params = 0\n",
    "for params in model.parameters():\n",
    "    total_params+=params.numel()\n",
    "print(total_params)"
   ]
  },
  {
   "cell_type": "markdown",
   "id": "2207aa4f",
   "metadata": {},
   "source": []
  },
  {
   "cell_type": "code",
   "execution_count": 7,
   "id": "dce4c090",
   "metadata": {},
   "outputs": [
    {
     "data": {
      "text/plain": [
       "['hai iam goint to you was the first and, and, and the a and not to the the and that with this.\\n\\n\\n\\n\\n\\n\\n\\n\\n\\nThe a the you to a a a a a a a is that to a to the is',\n",
       " 'hai iam goint to be a the the the you of�\\n\\n\\n\\n\\n\\n\\n\\n\\n\\n\\n\\n\\n\\n\\n\\n\\n\\n\\n\\n\\n\\n\\n\\n\\n\\n\\n\\n\\n\\n\\n\\nThe a have is to the he are you was']"
      ]
     },
     "execution_count": 7,
     "metadata": {},
     "output_type": "execute_result"
    }
   ],
   "source": [
    "inputs = ['hai iam goint to'] * 2\n",
    "model.generate(text=inputs, temperature=0.9, top_k=10)"
   ]
  },
  {
   "cell_type": "code",
   "execution_count": 14,
   "id": "de68deba",
   "metadata": {},
   "outputs": [
    {
     "name": "stderr",
     "output_type": "stream",
     "text": [
      "Some weights of GPT were not initialized from the model checkpoint at checkpoints and are newly initialized: ['final_layer.weight']\n",
      "You should probably TRAIN this model on a down-stream task to be able to use it for predictions and inference.\n"
     ]
    }
   ],
   "source": [
    "model = model.from_pretrained('checkpoints')"
   ]
  },
  {
   "cell_type": "code",
   "execution_count": null,
   "id": "e78e2114",
   "metadata": {},
   "outputs": [],
   "source": [
    "from dataset import get_data_loader"
   ]
  },
  {
   "cell_type": "code",
   "execution_count": null,
   "id": "f9641810",
   "metadata": {},
   "outputs": [],
   "source": [
    "import tiktoken\n",
    "tokenizer = tiktoken.get_encoding('gpt2')\n",
    "loader = get_data_loader(tokenizer)"
   ]
  },
  {
   "cell_type": "code",
   "execution_count": null,
   "id": "a65bf519",
   "metadata": {},
   "outputs": [
    {
     "name": "stdout",
     "output_type": "stream",
     "text": [
      "tensor([[   12,   448,   547,  ...,  1867,   338,   534],\n",
      "        [   40,  2937,    25,  ...,   339,   318, 10657],\n",
      "        [   25,   198, 39461,  ...,   307,   354,  2903],\n",
      "        ...,\n",
      "        [  561,   407,   423,  ...,  8322,  9399,    25],\n",
      "        [   12,  1820,    12,  ...,    13,   198,   198],\n",
      "        [  910,     0,  8805,  ...,   815,   307,  6190]]) tensor([[  448,   547,   286,  ...,   338,   534,  1438],\n",
      "        [ 2937,    25,   198,  ...,   318, 10657,    26],\n",
      "        [  198, 39461,    11,  ...,   354,  2903,   606],\n",
      "        ...,\n",
      "        [  407,   423,   340,  ...,  9399,    25,   198],\n",
      "        [ 1820,    12,    67,  ...,   198,   198, 18973],\n",
      "        [    0,  8805,   321,  ...,   307,  6190,    25]])\n"
     ]
    }
   ],
   "source": [
    "for x, y in loader:\n",
    "    print(x, y)\n",
    "    break"
   ]
  },
  {
   "cell_type": "code",
   "execution_count": 19,
   "id": "713df617",
   "metadata": {},
   "outputs": [
    {
     "name": "stderr",
     "output_type": "stream",
     "text": [
      "<>:2: SyntaxWarning: invalid escape sequence '\\o'\n",
      "<>:2: SyntaxWarning: invalid escape sequence '\\o'\n",
      "C:\\Users\\VICTUS\\AppData\\Local\\Temp\\ipykernel_3152\\705726110.py:2: SyntaxWarning: invalid escape sequence '\\o'\n",
      "  data = load_from_disk('pretrain_data\\openwebtext_tokenized')\n"
     ]
    }
   ],
   "source": [
    "from datasets import load_dataset, load_from_disk\n",
    "data = load_from_disk('pretrain_data\\openwebtext_tokenized')"
   ]
  },
  {
   "cell_type": "code",
   "execution_count": 10,
   "id": "bc2fb69e",
   "metadata": {},
   "outputs": [],
   "source": [
    "from torch.utils.data import DataLoader"
   ]
  },
  {
   "cell_type": "code",
   "execution_count": 42,
   "id": "44c97e39",
   "metadata": {},
   "outputs": [],
   "source": [
    "data.set_format('torch')"
   ]
  },
  {
   "cell_type": "code",
   "execution_count": 45,
   "id": "d8646258",
   "metadata": {},
   "outputs": [],
   "source": [
    "data_l = DataLoader(data, batch_size=5, shuffle=True)"
   ]
  },
  {
   "cell_type": "code",
   "execution_count": 46,
   "id": "f4fd9994",
   "metadata": {},
   "outputs": [],
   "source": [
    "for i in data_l:\n",
    "    break"
   ]
  },
  {
   "cell_type": "code",
   "execution_count": 47,
   "id": "f6252fbc",
   "metadata": {},
   "outputs": [
    {
     "data": {
      "text/plain": [
       "{'input': tensor([[ 6051,   264,    73,  ...,  3068,  4688,  3651],\n",
       "         [ 2087,    13,   198,  ...,   881,   284,  2897],\n",
       "         [ 1081,  4302,  7443,  ...,   405, 20872, 44824],\n",
       "         [44767, 47031,   284,  ...,  5479,   355,   890],\n",
       "         [   82,   564,   246,  ...,   198,  2396,    11]]),\n",
       " 'labels': tensor([[  264,    73, 11033,  ...,  4688,  3651,   925],\n",
       "         [   13,   198,   198,  ...,   284,  2897,     0],\n",
       "         [ 4302,  7443,  4710,  ..., 20872, 44824,   272],\n",
       "         [47031,   284,  1241,  ...,   355,   890,   355],\n",
       "         [  564,   246,  1462,  ...,  2396,    11,   477]])}"
      ]
     },
     "execution_count": 47,
     "metadata": {},
     "output_type": "execute_result"
    }
   ],
   "source": [
    "i"
   ]
  },
  {
   "cell_type": "code",
   "execution_count": 9,
   "id": "c07a4f07",
   "metadata": {},
   "outputs": [],
   "source": [
    "# from torch.utils.data import DataLoader"
   ]
  },
  {
   "cell_type": "code",
   "execution_count": 3,
   "id": "d619213e",
   "metadata": {},
   "outputs": [
    {
     "name": "stdout",
     "output_type": "stream",
     "text": [
      "total num of decay parms :124354560 with num tensor of 74\n",
      "total num of no decay parms :152448 with num tensor of 98\n",
      "Using fused: False\n"
     ]
    }
   ],
   "source": [
    "params = {n: p for n, p in model.named_parameters()}\n",
    "params = {n: p for n, p in params.items() if p.requires_grad}\n",
    "\n",
    "decay_params = [p for n, p in params.items() if p.dim() >= 2]\n",
    "nodecay_params = [p for n, p in params.items() if p.dim() < 2]\n",
    "\n",
    "param_grps = [\n",
    "    {'params': decay_params, 'weight_decay': .1},\n",
    "    {'params': nodecay_params, 'weight_decay': 0.0}\n",
    "]\n",
    "\n",
    "num_decay_params = sum(p.numel() for p in decay_params)\n",
    "num_nodecay_params = sum(p.numel() for p in nodecay_params)\n",
    "\n",
    "print(f\"total num of decay parms :{num_decay_params} with num tensor of {len(decay_params)}\")\n",
    "print(f\"total num of no decay parms :{num_nodecay_params} with num tensor of {len(nodecay_params)}\")\n",
    "import inspect;\n",
    "fused_available = \"fused\" in inspect.signature(torch.optim.AdamW).parameters\n",
    "use_fused = fused_available and 'cuda' in model.config.device\n",
    "print(f'Using fused: {use_fused}')"
   ]
  },
  {
   "cell_type": "code",
   "execution_count": 14,
   "id": "8799b2d4",
   "metadata": {},
   "outputs": [
    {
     "data": {
      "text/plain": [
       "162988032"
      ]
     },
     "execution_count": 14,
     "metadata": {},
     "output_type": "execute_result"
    }
   ],
   "source": [
    "162988032"
   ]
  },
  {
   "cell_type": "code",
   "execution_count": null,
   "id": "90d149b9",
   "metadata": {},
   "outputs": [],
   "source": []
  }
 ],
 "metadata": {
  "kernelspec": {
   "display_name": "gpt-2-124m-from-scratch-pytorch",
   "language": "python",
   "name": "python3"
  },
  "language_info": {
   "codemirror_mode": {
    "name": "ipython",
    "version": 3
   },
   "file_extension": ".py",
   "mimetype": "text/x-python",
   "name": "python",
   "nbconvert_exporter": "python",
   "pygments_lexer": "ipython3",
   "version": "3.12.10"
  }
 },
 "nbformat": 4,
 "nbformat_minor": 5
}
