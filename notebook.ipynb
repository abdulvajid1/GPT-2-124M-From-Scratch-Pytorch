{
 "cells": [
  {
   "cell_type": "code",
   "execution_count": 1,
   "id": "fb4cd5f4",
   "metadata": {},
   "outputs": [],
   "source": [
    "import torch\n",
    "import torch.nn as nn\n",
    "import torch.nn.functional as F\n",
    "from config import GptConfig\n",
    "from model import GPT"
   ]
  },
  {
   "cell_type": "code",
   "execution_count": 2,
   "id": "54dea3bd",
   "metadata": {},
   "outputs": [
    {
     "data": {
      "text/plain": [
       "{'logits': tensor([[[-0.0520,  0.6500,  0.3707,  ..., -0.1897, -0.3963, -0.0345],\n",
       "          [-0.1331,  0.3708,  0.1813,  ...,  0.1116, -0.5033, -0.0368],\n",
       "          [ 0.0791,  0.4023,  0.0324,  ...,  0.2553, -0.1588, -0.0118],\n",
       "          [-0.0369,  0.3399, -0.0793,  ...,  0.3059, -0.0188, -0.0860],\n",
       "          [-0.0008,  0.1317, -0.1179,  ...,  0.1751,  0.0234, -0.1093]]],\n",
       "        device='cuda:0', grad_fn=<ViewBackward0>),\n",
       " 'loss': None}"
      ]
     },
     "execution_count": 2,
     "metadata": {},
     "output_type": "execute_result"
    }
   ],
   "source": [
    "config = GptConfig()\n",
    "\n",
    "sample = torch.randint(1, 10, size=(1, 5)).to(config.device)\n",
    "target = torch.randint(1, 10, size=(1, 5)).to(config.device)\n",
    "\n",
    "gpt = GPT(config).to(config.device)\n",
    "\n",
    "gpt(sample)"
   ]
  },
  {
   "cell_type": "code",
   "execution_count": 3,
   "id": "79ed8a05",
   "metadata": {},
   "outputs": [],
   "source": [
    "from utils import load_checkpoint\n",
    "load_checkpoint(model=gpt)"
   ]
  },
  {
   "cell_type": "code",
   "execution_count": 4,
   "id": "0b188d88",
   "metadata": {},
   "outputs": [
    {
     "name": "stdout",
     "output_type": "stream",
     "text": [
      "total parameters in the model\n",
      "123733585\n"
     ]
    }
   ],
   "source": [
    "print(f\"total parameters in the model\")\n",
    "total_params = 0\n",
    "for params in gpt.parameters():\n",
    "    total_params+=params.numel()\n",
    "print(total_params)"
   ]
  },
  {
   "cell_type": "markdown",
   "id": "2207aa4f",
   "metadata": {},
   "source": []
  },
  {
   "cell_type": "code",
   "execution_count": 5,
   "id": "dce4c090",
   "metadata": {},
   "outputs": [
    {
     "data": {
      "text/plain": [
       "[\"hai iam goint to-day;\\nAnd, like a story of my joys,\\nAnd bid her best array; and there lies\\nAnd in their births: where is that's not\\nIt is, but not the duke,\\nIt shall be wary\",\n",
       " \"hai iam goint to her:\\nShe was the loathed to her husband;\\nShe was she born a shrew-day;\\nAnd she, she, I'll play the church;\\nAnd when she, there she, on me;\\nI'll tell her\",\n",
       " \"hai iam goint to-day;\\nAnd all the house of Lancaster hath been made\\nAs well in the highness' the sun.\\n\\nNORFOLK:\\nI thank God, the noble duke had me\\nAnd he my daughter's hand.\",\n",
       " 'hai iam goint to-day.\\n\\nGLOUCESTER:\\nWhy, then you would not call me;\\nFor I was for you that I was stay.\\n\\nKING EDWARD IV:\\nBrother, then, if I command,\\nWhat',\n",
       " 'hai iam goint to-day?\\n\\nHENRY BOLINGBROKE:\\nIt is thy goodly time it.\\n\\nDUCHESS OF YORK:\\nMyself I remember them well, nor my uncle;\\nAnd yet my son']"
      ]
     },
     "execution_count": 5,
     "metadata": {},
     "output_type": "execute_result"
    }
   ],
   "source": [
    "inputs = ['hai iam goint to'] * 5\n",
    "gpt.generate(text=inputs, temperature=0.7, top_k=10)"
   ]
  },
  {
   "cell_type": "code",
   "execution_count": 6,
   "id": "e78e2114",
   "metadata": {},
   "outputs": [],
   "source": [
    "from dataset import get_data_loader"
   ]
  },
  {
   "cell_type": "code",
   "execution_count": 7,
   "id": "f9641810",
   "metadata": {},
   "outputs": [],
   "source": [
    "import tiktoken\n",
    "tokenizer = tiktoken.get_encoding('gpt2')\n",
    "loader = get_data_loader(tokenizer)"
   ]
  },
  {
   "cell_type": "code",
   "execution_count": 8,
   "id": "a65bf519",
   "metadata": {},
   "outputs": [
    {
     "name": "stdout",
     "output_type": "stream",
     "text": [
      "tensor([[   12,   448,   547,  ...,  1867,   338,   534],\n",
      "        [   40,  2937,    25,  ...,   339,   318, 10657],\n",
      "        [   25,   198, 39461,  ...,   307,   354,  2903],\n",
      "        ...,\n",
      "        [  561,   407,   423,  ...,  8322,  9399,    25],\n",
      "        [   12,  1820,    12,  ...,    13,   198,   198],\n",
      "        [  910,     0,  8805,  ...,   815,   307,  6190]]) tensor([[  448,   547,   286,  ...,   338,   534,  1438],\n",
      "        [ 2937,    25,   198,  ...,   318, 10657,    26],\n",
      "        [  198, 39461,    11,  ...,   354,  2903,   606],\n",
      "        ...,\n",
      "        [  407,   423,   340,  ...,  9399,    25,   198],\n",
      "        [ 1820,    12,    67,  ...,   198,   198, 18973],\n",
      "        [    0,  8805,   321,  ...,   307,  6190,    25]])\n"
     ]
    }
   ],
   "source": [
    "for x, y in loader:\n",
    "    print(x, y)\n",
    "    break"
   ]
  },
  {
   "cell_type": "code",
   "execution_count": null,
   "id": "713df617",
   "metadata": {},
   "outputs": [],
   "source": []
  }
 ],
 "metadata": {
  "kernelspec": {
   "display_name": "gpt-2-124m-from-scratch-pytorch",
   "language": "python",
   "name": "python3"
  },
  "language_info": {
   "codemirror_mode": {
    "name": "ipython",
    "version": 3
   },
   "file_extension": ".py",
   "mimetype": "text/x-python",
   "name": "python",
   "nbconvert_exporter": "python",
   "pygments_lexer": "ipython3",
   "version": "3.12.10"
  }
 },
 "nbformat": 4,
 "nbformat_minor": 5
}
