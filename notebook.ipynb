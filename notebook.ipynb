{
 "cells": [
  {
   "cell_type": "code",
   "execution_count": 19,
   "id": "fb4cd5f4",
   "metadata": {},
   "outputs": [],
   "source": [
    "import torch\n",
    "import torch.nn as nn\n",
    "import torch.nn.functional as F\n",
    "from config import GptConfig\n",
    "from model import GPT"
   ]
  },
  {
   "cell_type": "code",
   "execution_count": 21,
   "id": "f7b2627f",
   "metadata": {},
   "outputs": [
    {
     "data": {
      "text/plain": [
       "GPT(\n",
       "  (tok_embed): Embedding(55, 768)\n",
       "  (pos_embed): PositionalEncoding(\n",
       "    (pos_embed): Embedding(256, 768)\n",
       "  )\n",
       "  (decoder_blocks): ModuleList(\n",
       "    (0-11): 12 x DecoderBlock(\n",
       "      (attention): GPTAttention(\n",
       "        (Q_w): Linear(in_features=768, out_features=768, bias=True)\n",
       "        (K_w): Linear(in_features=768, out_features=768, bias=True)\n",
       "        (V_w): Linear(in_features=768, out_features=768, bias=True)\n",
       "        (O_w): Linear(in_features=768, out_features=768, bias=True)\n",
       "      )\n",
       "      (feed_forward): FeedForward(\n",
       "        (feed_forward): Sequential(\n",
       "          (0): Linear(in_features=768, out_features=3072, bias=True)\n",
       "          (1): GELU(approximate='tanh')\n",
       "          (2): Linear(in_features=3072, out_features=768, bias=True)\n",
       "        )\n",
       "      )\n",
       "      (norm1): RMSNorm()\n",
       "      (norm2): RMSNorm()\n",
       "    )\n",
       "  )\n",
       "  (final_rms_norm): RMSNorm()\n",
       "  (final_layer): Linear(in_features=768, out_features=55, bias=True)\n",
       "  (criteria): CrossEntropyLoss()\n",
       ")"
      ]
     },
     "execution_count": 21,
     "metadata": {},
     "output_type": "execute_result"
    }
   ],
   "source": [
    "gpt"
   ]
  },
  {
   "cell_type": "code",
   "execution_count": 20,
   "id": "54dea3bd",
   "metadata": {},
   "outputs": [
    {
     "data": {
      "text/plain": [
       "{'logits': tensor([[[ 0.4749, -0.5933, -0.4838,  0.6192,  0.1247, -0.3659,  0.4488,\n",
       "            0.6570, -0.6671,  0.6854, -0.4627, -1.2288,  0.4059,  0.2170,\n",
       "           -0.0686, -1.6067, -0.4026, -0.5908,  0.1460, -0.8649,  0.1630,\n",
       "            1.0187,  0.3321,  0.1288, -0.5420, -0.9817, -0.8623, -0.2830,\n",
       "            0.0094, -0.6476,  0.6231,  0.7701,  0.4585, -0.0517,  0.4955,\n",
       "            0.8647, -0.8403, -0.2228,  0.0631, -0.5118, -0.9596, -0.4565,\n",
       "            0.4912, -0.3169,  0.0027, -1.2278, -0.8748, -0.1375, -0.7101,\n",
       "            0.6923,  0.1703, -0.5242, -0.1083,  0.5323, -0.0961],\n",
       "          [ 0.6488,  0.3056, -0.1149,  0.4578,  0.9881, -0.3234,  0.2002,\n",
       "            0.0916, -1.2257,  0.0799, -0.6967,  0.3219,  0.2571,  0.0139,\n",
       "            0.2578, -0.9027,  0.0830,  0.4635, -0.0227, -1.0522, -1.1939,\n",
       "            0.6883, -0.1783, -0.7082,  0.1018, -0.6851, -0.2860, -0.1674,\n",
       "           -0.1021,  0.2486,  0.3785, -0.1542,  0.7144,  0.5672,  0.6085,\n",
       "            0.5364,  0.7044,  0.1866,  0.0621,  0.9201, -0.0992,  1.6913,\n",
       "            0.2759,  0.5258, -0.6613, -0.6184, -0.2712, -0.2238,  0.7111,\n",
       "           -0.1115, -0.9965, -0.9269,  1.3343, -0.3693,  0.3774],\n",
       "          [-0.5304, -0.3869, -0.3519,  0.4916, -0.3853, -0.3879,  0.2241,\n",
       "            0.3306, -0.2181, -0.8761, -0.4034, -0.2053,  0.0630,  0.3687,\n",
       "            0.1573,  0.1036, -0.4875, -0.8790,  0.1510, -0.5580, -0.8284,\n",
       "            0.3159,  0.0298, -0.2437,  0.4663, -1.2780,  0.6754,  0.2109,\n",
       "           -0.1030, -1.3248,  0.8462,  0.2047,  0.7909,  0.3289,  0.1464,\n",
       "           -0.1721,  0.1218, -0.6768,  0.5936,  0.0282, -0.3395,  0.1077,\n",
       "           -1.1448,  0.3362,  0.0570, -1.3821, -0.6617,  0.4106, -0.1677,\n",
       "           -0.0979,  0.4457, -0.5730,  0.6097, -1.0705,  0.3248],\n",
       "          [-0.5694,  1.1595, -0.2979,  1.6397,  0.7433, -0.5492,  1.3185,\n",
       "           -0.1418, -0.6933,  0.0396, -0.1030, -0.8114, -0.4947,  0.3679,\n",
       "            0.0089, -0.5395, -0.2130, -1.4935, -0.0765, -1.7671,  0.4929,\n",
       "            0.9276,  0.5202,  0.8393, -0.0451, -0.5004, -0.5805,  0.7735,\n",
       "           -0.7349, -0.6512,  1.0730,  0.1693,  0.6306, -0.0823,  0.8410,\n",
       "            1.3987, -0.4882,  0.1943, -0.6097,  0.6363,  0.2385,  0.5824,\n",
       "            1.0972,  0.0253, -0.9926, -0.9508, -0.9473, -0.2914,  0.6863,\n",
       "            0.3494,  0.6663, -0.1280,  0.3186,  0.8292, -0.1071],\n",
       "          [ 0.1458, -0.6783,  0.2724,  0.8134,  0.9768,  0.4796,  0.8851,\n",
       "            0.8239, -1.7173, -0.8241, -0.1183,  0.2406,  0.5581,  0.4494,\n",
       "            0.1735, -0.2652,  0.0309, -0.9016, -0.1466, -1.2038, -0.6571,\n",
       "           -0.1827, -0.8132,  0.5059, -0.3237, -0.1018, -0.4416,  0.9064,\n",
       "           -0.1959, -0.3110,  0.7438, -0.5623,  0.2262, -0.1950,  1.0414,\n",
       "            0.3567,  0.2767, -0.0823,  0.2555,  0.5511,  0.4436, -0.6392,\n",
       "           -0.2133,  0.1748, -0.4954, -0.6956, -0.1422, -0.1193,  0.9883,\n",
       "           -0.7189,  0.0092,  0.1578,  0.2246,  0.2779,  0.3586]]],\n",
       "        grad_fn=<ViewBackward0>),\n",
       " 'loss': tensor(4.2068, grad_fn=<NllLossBackward0>)}"
      ]
     },
     "execution_count": 20,
     "metadata": {},
     "output_type": "execute_result"
    }
   ],
   "source": [
    "sample = torch.randint(1, 10, size=(1, 5))\n",
    "target = torch.randint(1, 10, size=(1, 5))\n",
    "config = GptConfig()\n",
    "gpt = GPT(config)\n",
    "\n",
    "gpt(sample, target)"
   ]
  },
  {
   "cell_type": "code",
   "execution_count": null,
   "id": "fc84c815",
   "metadata": {},
   "outputs": [],
   "source": []
  },
  {
   "cell_type": "code",
   "execution_count": null,
   "id": "0b188d88",
   "metadata": {},
   "outputs": [
    {
     "data": {
      "text/plain": [
       "GPTAttention(\n",
       "  (Q_w): Linear(in_features=768, out_features=768, bias=True)\n",
       "  (K_w): Linear(in_features=768, out_features=768, bias=True)\n",
       "  (V_w): Linear(in_features=768, out_features=768, bias=True)\n",
       "  (O_w): Linear(in_features=768, out_features=768, bias=True)\n",
       ")"
      ]
     },
     "execution_count": 25,
     "metadata": {},
     "output_type": "execute_result"
    }
   ],
   "source": [
    "attention"
   ]
  },
  {
   "cell_type": "code",
   "execution_count": null,
   "id": "48eb4ff6",
   "metadata": {},
   "outputs": [],
   "source": []
  }
 ],
 "metadata": {
  "kernelspec": {
   "display_name": "gpt-2-124m-from-scratch-pytorch",
   "language": "python",
   "name": "python3"
  },
  "language_info": {
   "codemirror_mode": {
    "name": "ipython",
    "version": 3
   },
   "file_extension": ".py",
   "mimetype": "text/x-python",
   "name": "python",
   "nbconvert_exporter": "python",
   "pygments_lexer": "ipython3",
   "version": "3.12.10"
  }
 },
 "nbformat": 4,
 "nbformat_minor": 5
}
