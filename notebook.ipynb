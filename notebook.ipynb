{
 "cells": [
  {
   "cell_type": "code",
   "execution_count": 1,
   "id": "fb4cd5f4",
   "metadata": {},
   "outputs": [],
   "source": [
    "import torch\n",
    "import torch.nn as nn\n",
    "import torch.nn.functional as F\n",
    "from config import GptConfig\n",
    "from model import GPT"
   ]
  },
  {
   "cell_type": "code",
   "execution_count": 2,
   "id": "64c3a10c",
   "metadata": {},
   "outputs": [
    {
     "data": {
      "text/plain": [
       "True"
      ]
     },
     "execution_count": 2,
     "metadata": {},
     "output_type": "execute_result"
    }
   ],
   "source": [
    "torch.cuda.is_bf16_supported()"
   ]
  },
  {
   "cell_type": "code",
   "execution_count": 4,
   "id": "54dea3bd",
   "metadata": {},
   "outputs": [],
   "source": [
    "config = GptConfig()\n",
    "\n",
    "sample = torch.randint(1, 10, size=(1, 5)).to(config.device)\n",
    "target = torch.randint(1, 10, size=(1, 5)).to(config.device)\n",
    "\n",
    "gpt = GPT(config).to(config.device)\n",
    "\n",
    "out = gpt(sample)"
   ]
  },
  {
   "cell_type": "code",
   "execution_count": 7,
   "id": "4af5c8b7",
   "metadata": {},
   "outputs": [
    {
     "data": {
      "text/plain": [
       "torch.float32"
      ]
     },
     "execution_count": 7,
     "metadata": {},
     "output_type": "execute_result"
    }
   ],
   "source": [
    "out['logits'].dtype"
   ]
  },
  {
   "cell_type": "code",
   "execution_count": 3,
   "id": "79ed8a05",
   "metadata": {},
   "outputs": [
    {
     "ename": "FileNotFoundError",
     "evalue": "[Errno 2] No such file or directory: 'checkpoints/ckpt.pt'",
     "output_type": "error",
     "traceback": [
      "\u001b[31m---------------------------------------------------------------------------\u001b[39m",
      "\u001b[31mFileNotFoundError\u001b[39m                         Traceback (most recent call last)",
      "\u001b[36mCell\u001b[39m\u001b[36m \u001b[39m\u001b[32mIn[3]\u001b[39m\u001b[32m, line 2\u001b[39m\n\u001b[32m      1\u001b[39m \u001b[38;5;28;01mfrom\u001b[39;00m\u001b[38;5;250m \u001b[39m\u001b[34;01mutils\u001b[39;00m\u001b[38;5;250m \u001b[39m\u001b[38;5;28;01mimport\u001b[39;00m load_checkpoint\n\u001b[32m----> \u001b[39m\u001b[32m2\u001b[39m \u001b[43mload_checkpoint\u001b[49m\u001b[43m(\u001b[49m\u001b[43mmodel\u001b[49m\u001b[43m=\u001b[49m\u001b[43mgpt\u001b[49m\u001b[43m)\u001b[49m\n",
      "\u001b[36mFile \u001b[39m\u001b[32md:\\Machine Learning\\PROJECTS\\GPT-2-124M-From-Scratch-Pytorch\\utils.py:8\u001b[39m, in \u001b[36mload_checkpoint\u001b[39m\u001b[34m(model, optimizer, scalar, path)\u001b[39m\n\u001b[32m      7\u001b[39m \u001b[38;5;28;01mdef\u001b[39;00m\u001b[38;5;250m \u001b[39m\u001b[34mload_checkpoint\u001b[39m(model,optimizer=\u001b[38;5;28;01mNone\u001b[39;00m, scalar=\u001b[38;5;28;01mNone\u001b[39;00m, path=\u001b[33m'\u001b[39m\u001b[33mcheckpoints/ckpt.pt\u001b[39m\u001b[33m'\u001b[39m,):\n\u001b[32m----> \u001b[39m\u001b[32m8\u001b[39m     checkpoint = \u001b[43mtorch\u001b[49m\u001b[43m.\u001b[49m\u001b[43mload\u001b[49m\u001b[43m(\u001b[49m\u001b[43mpath\u001b[49m\u001b[43m)\u001b[49m\n\u001b[32m      9\u001b[39m     model.load_state_dict(checkpoint[\u001b[33m'\u001b[39m\u001b[33mmodel_state\u001b[39m\u001b[33m'\u001b[39m])\n\u001b[32m     10\u001b[39m     \u001b[38;5;28;01mif\u001b[39;00m optimizer!=\u001b[38;5;28;01mNone\u001b[39;00m:\n",
      "\u001b[36mFile \u001b[39m\u001b[32md:\\Machine Learning\\PROJECTS\\GPT-2-124M-From-Scratch-Pytorch\\.venv\\Lib\\site-packages\\torch\\serialization.py:1484\u001b[39m, in \u001b[36mload\u001b[39m\u001b[34m(f, map_location, pickle_module, weights_only, mmap, **pickle_load_args)\u001b[39m\n\u001b[32m   1481\u001b[39m \u001b[38;5;28;01mif\u001b[39;00m \u001b[33m\"\u001b[39m\u001b[33mencoding\u001b[39m\u001b[33m\"\u001b[39m \u001b[38;5;129;01mnot\u001b[39;00m \u001b[38;5;129;01min\u001b[39;00m pickle_load_args.keys():\n\u001b[32m   1482\u001b[39m     pickle_load_args[\u001b[33m\"\u001b[39m\u001b[33mencoding\u001b[39m\u001b[33m\"\u001b[39m] = \u001b[33m\"\u001b[39m\u001b[33mutf-8\u001b[39m\u001b[33m\"\u001b[39m\n\u001b[32m-> \u001b[39m\u001b[32m1484\u001b[39m \u001b[38;5;28;01mwith\u001b[39;00m \u001b[43m_open_file_like\u001b[49m\u001b[43m(\u001b[49m\u001b[43mf\u001b[49m\u001b[43m,\u001b[49m\u001b[43m \u001b[49m\u001b[33;43m\"\u001b[39;49m\u001b[33;43mrb\u001b[39;49m\u001b[33;43m\"\u001b[39;49m\u001b[43m)\u001b[49m \u001b[38;5;28;01mas\u001b[39;00m opened_file:\n\u001b[32m   1485\u001b[39m     \u001b[38;5;28;01mif\u001b[39;00m _is_zipfile(opened_file):\n\u001b[32m   1486\u001b[39m         \u001b[38;5;66;03m# The zipfile reader is going to advance the current file position.\u001b[39;00m\n\u001b[32m   1487\u001b[39m         \u001b[38;5;66;03m# If we want to actually tail call to torch.jit.load, we need to\u001b[39;00m\n\u001b[32m   1488\u001b[39m         \u001b[38;5;66;03m# reset back to the original position.\u001b[39;00m\n\u001b[32m   1489\u001b[39m         orig_position = opened_file.tell()\n",
      "\u001b[36mFile \u001b[39m\u001b[32md:\\Machine Learning\\PROJECTS\\GPT-2-124M-From-Scratch-Pytorch\\.venv\\Lib\\site-packages\\torch\\serialization.py:759\u001b[39m, in \u001b[36m_open_file_like\u001b[39m\u001b[34m(name_or_buffer, mode)\u001b[39m\n\u001b[32m    757\u001b[39m \u001b[38;5;28;01mdef\u001b[39;00m\u001b[38;5;250m \u001b[39m\u001b[34m_open_file_like\u001b[39m(name_or_buffer: FileLike, mode: \u001b[38;5;28mstr\u001b[39m) -> _opener[IO[\u001b[38;5;28mbytes\u001b[39m]]:\n\u001b[32m    758\u001b[39m     \u001b[38;5;28;01mif\u001b[39;00m _is_path(name_or_buffer):\n\u001b[32m--> \u001b[39m\u001b[32m759\u001b[39m         \u001b[38;5;28;01mreturn\u001b[39;00m \u001b[43m_open_file\u001b[49m\u001b[43m(\u001b[49m\u001b[43mname_or_buffer\u001b[49m\u001b[43m,\u001b[49m\u001b[43m \u001b[49m\u001b[43mmode\u001b[49m\u001b[43m)\u001b[49m\n\u001b[32m    760\u001b[39m     \u001b[38;5;28;01melse\u001b[39;00m:\n\u001b[32m    761\u001b[39m         \u001b[38;5;28;01mif\u001b[39;00m \u001b[33m\"\u001b[39m\u001b[33mw\u001b[39m\u001b[33m\"\u001b[39m \u001b[38;5;129;01min\u001b[39;00m mode:\n",
      "\u001b[36mFile \u001b[39m\u001b[32md:\\Machine Learning\\PROJECTS\\GPT-2-124M-From-Scratch-Pytorch\\.venv\\Lib\\site-packages\\torch\\serialization.py:740\u001b[39m, in \u001b[36m_open_file.__init__\u001b[39m\u001b[34m(self, name, mode)\u001b[39m\n\u001b[32m    739\u001b[39m \u001b[38;5;28;01mdef\u001b[39;00m\u001b[38;5;250m \u001b[39m\u001b[34m__init__\u001b[39m(\u001b[38;5;28mself\u001b[39m, name: Union[\u001b[38;5;28mstr\u001b[39m, os.PathLike[\u001b[38;5;28mstr\u001b[39m]], mode: \u001b[38;5;28mstr\u001b[39m) -> \u001b[38;5;28;01mNone\u001b[39;00m:\n\u001b[32m--> \u001b[39m\u001b[32m740\u001b[39m     \u001b[38;5;28msuper\u001b[39m().\u001b[34m__init__\u001b[39m(\u001b[38;5;28;43mopen\u001b[39;49m\u001b[43m(\u001b[49m\u001b[43mname\u001b[49m\u001b[43m,\u001b[49m\u001b[43m \u001b[49m\u001b[43mmode\u001b[49m\u001b[43m)\u001b[49m)\n",
      "\u001b[31mFileNotFoundError\u001b[39m: [Errno 2] No such file or directory: 'checkpoints/ckpt.pt'"
     ]
    }
   ],
   "source": [
    "from utils import load_checkpoint\n",
    "load_checkpoint(model=gpt)"
   ]
  },
  {
   "cell_type": "code",
   "execution_count": null,
   "id": "0b188d88",
   "metadata": {},
   "outputs": [
    {
     "name": "stdout",
     "output_type": "stream",
     "text": [
      "total parameters in the model\n",
      "123733585\n"
     ]
    }
   ],
   "source": [
    "print(f\"total parameters in the model\")\n",
    "total_params = 0\n",
    "for params in gpt.parameters():\n",
    "    total_params+=params.numel()\n",
    "print(total_params)"
   ]
  },
  {
   "cell_type": "markdown",
   "id": "2207aa4f",
   "metadata": {},
   "source": []
  },
  {
   "cell_type": "code",
   "execution_count": null,
   "id": "dce4c090",
   "metadata": {},
   "outputs": [
    {
     "data": {
      "text/plain": [
       "[\"hai iam goint to-day;\\nAnd, like a story of my joys,\\nAnd bid her best array; and there lies\\nAnd in their births: where is that's not\\nIt is, but not the duke,\\nIt shall be wary\",\n",
       " \"hai iam goint to her:\\nShe was the loathed to her husband;\\nShe was she born a shrew-day;\\nAnd she, she, I'll play the church;\\nAnd when she, there she, on me;\\nI'll tell her\",\n",
       " \"hai iam goint to-day;\\nAnd all the house of Lancaster hath been made\\nAs well in the highness' the sun.\\n\\nNORFOLK:\\nI thank God, the noble duke had me\\nAnd he my daughter's hand.\",\n",
       " 'hai iam goint to-day.\\n\\nGLOUCESTER:\\nWhy, then you would not call me;\\nFor I was for you that I was stay.\\n\\nKING EDWARD IV:\\nBrother, then, if I command,\\nWhat',\n",
       " 'hai iam goint to-day?\\n\\nHENRY BOLINGBROKE:\\nIt is thy goodly time it.\\n\\nDUCHESS OF YORK:\\nMyself I remember them well, nor my uncle;\\nAnd yet my son']"
      ]
     },
     "execution_count": 5,
     "metadata": {},
     "output_type": "execute_result"
    }
   ],
   "source": [
    "inputs = ['hai iam goint to'] * 5\n",
    "gpt.generate(text=inputs, temperature=0.7, top_k=10)"
   ]
  },
  {
   "cell_type": "code",
   "execution_count": null,
   "id": "e78e2114",
   "metadata": {},
   "outputs": [],
   "source": [
    "from dataset import get_data_loader"
   ]
  },
  {
   "cell_type": "code",
   "execution_count": null,
   "id": "f9641810",
   "metadata": {},
   "outputs": [],
   "source": [
    "import tiktoken\n",
    "tokenizer = tiktoken.get_encoding('gpt2')\n",
    "loader = get_data_loader(tokenizer)"
   ]
  },
  {
   "cell_type": "code",
   "execution_count": null,
   "id": "a65bf519",
   "metadata": {},
   "outputs": [
    {
     "name": "stdout",
     "output_type": "stream",
     "text": [
      "tensor([[   12,   448,   547,  ...,  1867,   338,   534],\n",
      "        [   40,  2937,    25,  ...,   339,   318, 10657],\n",
      "        [   25,   198, 39461,  ...,   307,   354,  2903],\n",
      "        ...,\n",
      "        [  561,   407,   423,  ...,  8322,  9399,    25],\n",
      "        [   12,  1820,    12,  ...,    13,   198,   198],\n",
      "        [  910,     0,  8805,  ...,   815,   307,  6190]]) tensor([[  448,   547,   286,  ...,   338,   534,  1438],\n",
      "        [ 2937,    25,   198,  ...,   318, 10657,    26],\n",
      "        [  198, 39461,    11,  ...,   354,  2903,   606],\n",
      "        ...,\n",
      "        [  407,   423,   340,  ...,  9399,    25,   198],\n",
      "        [ 1820,    12,    67,  ...,   198,   198, 18973],\n",
      "        [    0,  8805,   321,  ...,   307,  6190,    25]])\n"
     ]
    }
   ],
   "source": [
    "for x, y in loader:\n",
    "    print(x, y)\n",
    "    break"
   ]
  },
  {
   "cell_type": "code",
   "execution_count": null,
   "id": "713df617",
   "metadata": {},
   "outputs": [],
   "source": []
  }
 ],
 "metadata": {
  "kernelspec": {
   "display_name": "gpt-2-124m-from-scratch-pytorch",
   "language": "python",
   "name": "python3"
  },
  "language_info": {
   "codemirror_mode": {
    "name": "ipython",
    "version": 3
   },
   "file_extension": ".py",
   "mimetype": "text/x-python",
   "name": "python",
   "nbconvert_exporter": "python",
   "pygments_lexer": "ipython3",
   "version": "3.12.10"
  }
 },
 "nbformat": 4,
 "nbformat_minor": 5
}
